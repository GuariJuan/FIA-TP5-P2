{
  "nbformat": 4,
  "nbformat_minor": 0,
  "metadata": {
    "colab": {
      "provenance": [],
      "authorship_tag": "ABX9TyPr3M9t0rv+N4ZxFscxH5jB",
      "include_colab_link": true
    },
    "kernelspec": {
      "name": "ir",
      "display_name": "R"
    },
    "language_info": {
      "name": "R"
    }
  },
  "cells": [
    {
      "cell_type": "markdown",
      "metadata": {
        "id": "view-in-github",
        "colab_type": "text"
      },
      "source": [
        "<a href=\"https://colab.research.google.com/github/GuariJuan/FIA-TP5-P2/blob/main/FIA2023_TP05_P2_GUARI_JUAN.ipynb\" target=\"_parent\"><img src=\"https://colab.research.google.com/assets/colab-badge.svg\" alt=\"Open In Colab\"/></a>"
      ]
    },
    {
      "cell_type": "code",
      "execution_count": 1,
      "metadata": {
        "colab": {
          "base_uri": "https://localhost:8080/"
        },
        "id": "yX8-aJXe9f18",
        "outputId": "abe24561-ff6f-4ecd-f032-93d987a9764d"
      },
      "outputs": [
        {
          "output_type": "stream",
          "name": "stderr",
          "text": [
            "Installing package into ‘/usr/local/lib/R/site-library’\n",
            "(as ‘lib’ is unspecified)\n",
            "\n",
            "also installing the dependency ‘proxy’\n",
            "\n",
            "\n",
            "Installing package into ‘/usr/local/lib/R/site-library’\n",
            "(as ‘lib’ is unspecified)\n",
            "\n",
            "Installing package into ‘/usr/local/lib/R/site-library’\n",
            "(as ‘lib’ is unspecified)\n",
            "\n",
            "Installing package into ‘/usr/local/lib/R/site-library’\n",
            "(as ‘lib’ is unspecified)\n",
            "\n",
            "also installing the dependencies ‘listenv’, ‘parallelly’, ‘future’, ‘globals’, ‘shape’, ‘future.apply’, ‘numDeriv’, ‘progressr’, ‘SQUAREM’, ‘diagram’, ‘lava’, ‘prodlim’, ‘iterators’, ‘Rcpp’, ‘gower’, ‘hardhat’, ‘ipred’, ‘timeDate’, ‘foreach’, ‘ModelMetrics’, ‘plyr’, ‘pROC’, ‘recipes’, ‘reshape2’\n",
            "\n",
            "\n",
            "Installing package into ‘/usr/local/lib/R/site-library’\n",
            "(as ‘lib’ is unspecified)\n",
            "\n"
          ]
        }
      ],
      "source": [
        "#Instalamos librerías\n",
        "install.packages(\"e1071\")#svm\n",
        "install.packages(\"randomForest\") #randomForest\n",
        "install.packages(\"clock\") #necesaria para instalar 'caret'\n",
        "install.packages(\"caret\") #para el particionado del df\n",
        "install.packages(\"fastDummies\") #para realizar el casteo (one-hot encoding)"
      ]
    },
    {
      "cell_type": "code",
      "source": [
        "#Importamos librerías\n",
        "library(e1071)\n",
        "library(randomForest)\n",
        "library(dplyr)\n",
        "library(caret)\n",
        "library(reshape2)\n",
        "library(fastDummies)"
      ],
      "metadata": {
        "colab": {
          "base_uri": "https://localhost:8080/"
        },
        "id": "ggqWydB99v7M",
        "outputId": "c689c1f6-8882-4434-b0f2-99beeecb8855"
      },
      "execution_count": 2,
      "outputs": [
        {
          "output_type": "stream",
          "name": "stderr",
          "text": [
            "randomForest 4.7-1.1\n",
            "\n",
            "Type rfNews() to see new features/changes/bug fixes.\n",
            "\n",
            "\n",
            "Attaching package: ‘dplyr’\n",
            "\n",
            "\n",
            "The following object is masked from ‘package:randomForest’:\n",
            "\n",
            "    combine\n",
            "\n",
            "\n",
            "The following objects are masked from ‘package:stats’:\n",
            "\n",
            "    filter, lag\n",
            "\n",
            "\n",
            "The following objects are masked from ‘package:base’:\n",
            "\n",
            "    intersect, setdiff, setequal, union\n",
            "\n",
            "\n",
            "Loading required package: ggplot2\n",
            "\n",
            "\n",
            "Attaching package: ‘ggplot2’\n",
            "\n",
            "\n",
            "The following object is masked from ‘package:randomForest’:\n",
            "\n",
            "    margin\n",
            "\n",
            "\n",
            "Loading required package: lattice\n",
            "\n",
            "Thank you for using fastDummies!\n",
            "\n",
            "To acknowledge our work, please cite the package:\n",
            "\n",
            "Kaplan, J. & Schlegel, B. (2023). fastDummies: Fast Creation of Dummy (Binary) Columns and Rows from Categorical Variables. Version 1.7.1. URL: https://github.com/jacobkap/fastDummies, https://jacobkap.github.io/fastDummies/.\n",
            "\n"
          ]
        }
      ]
    },
    {
      "cell_type": "code",
      "source": [
        "df_credit_card <- read.csv(\"/content/Credit_card_limpio.csv\")\n",
        "head(df_credit_card)"
      ],
      "metadata": {
        "colab": {
          "base_uri": "https://localhost:8080/",
          "height": 479
        },
        "id": "rZxi42Fs938T",
        "outputId": "ebbd19c7-43be-4446-d8ea-ed99c425063b"
      },
      "execution_count": 3,
      "outputs": [
        {
          "output_type": "display_data",
          "data": {
            "text/html": [
              "<table class=\"dataframe\">\n",
              "<caption>A data.frame: 6 × 21</caption>\n",
              "<thead>\n",
              "\t<tr><th></th><th scope=col>X</th><th scope=col>Ind_ID</th><th scope=col>GENDER</th><th scope=col>Car_Owner</th><th scope=col>Propert_Owner</th><th scope=col>CHILDREN</th><th scope=col>Annual_income</th><th scope=col>Type_Income</th><th scope=col>EDUCATION</th><th scope=col>Marital_status</th><th scope=col>⋯</th><th scope=col>Employed_days</th><th scope=col>Mobile_phone</th><th scope=col>Work_Phone</th><th scope=col>Phone</th><th scope=col>EMAIL_ID</th><th scope=col>Family_Members</th><th scope=col>label</th><th scope=col>Birthday_date</th><th scope=col>age</th><th scope=col>Employed</th></tr>\n",
              "\t<tr><th></th><th scope=col>&lt;int&gt;</th><th scope=col>&lt;int&gt;</th><th scope=col>&lt;chr&gt;</th><th scope=col>&lt;chr&gt;</th><th scope=col>&lt;chr&gt;</th><th scope=col>&lt;int&gt;</th><th scope=col>&lt;dbl&gt;</th><th scope=col>&lt;chr&gt;</th><th scope=col>&lt;chr&gt;</th><th scope=col>&lt;chr&gt;</th><th scope=col>⋯</th><th scope=col>&lt;int&gt;</th><th scope=col>&lt;int&gt;</th><th scope=col>&lt;int&gt;</th><th scope=col>&lt;int&gt;</th><th scope=col>&lt;int&gt;</th><th scope=col>&lt;int&gt;</th><th scope=col>&lt;int&gt;</th><th scope=col>&lt;chr&gt;</th><th scope=col>&lt;int&gt;</th><th scope=col>&lt;chr&gt;</th></tr>\n",
              "</thead>\n",
              "<tbody>\n",
              "\t<tr><th scope=row>1</th><td>1</td><td>5008827</td><td>M</td><td>Y</td><td>Y</td><td>0</td><td>180000</td><td>Pensioner           </td><td>Higher education             </td><td>Married  </td><td>⋯</td><td>365243</td><td>1</td><td>0</td><td>0</td><td>0</td><td>2</td><td>1</td><td>1972-06-29</td><td>51</td><td>n</td></tr>\n",
              "\t<tr><th scope=row>2</th><td>2</td><td>5008865</td><td>F</td><td>Y</td><td>Y</td><td>2</td><td>135000</td><td>Working             </td><td>Secondary / secondary special</td><td>Married  </td><td>⋯</td><td> -3173</td><td>1</td><td>0</td><td>0</td><td>0</td><td>4</td><td>0</td><td>1980-09-26</td><td>43</td><td>y</td></tr>\n",
              "\t<tr><th scope=row>3</th><td>3</td><td>5008889</td><td>F</td><td>N</td><td>Y</td><td>0</td><td>247500</td><td>Commercial associate</td><td>Higher education             </td><td>Separated</td><td>⋯</td><td> -1347</td><td>1</td><td>0</td><td>0</td><td>0</td><td>1</td><td>0</td><td>1977-04-20</td><td>46</td><td>y</td></tr>\n",
              "\t<tr><th scope=row>4</th><td>4</td><td>5009000</td><td>M</td><td>Y</td><td>Y</td><td>0</td><td>157500</td><td>Working             </td><td>Secondary / secondary special</td><td>Married  </td><td>⋯</td><td>  -828</td><td>1</td><td>0</td><td>0</td><td>0</td><td>2</td><td>0</td><td>1996-09-16</td><td>27</td><td>y</td></tr>\n",
              "\t<tr><th scope=row>5</th><td>5</td><td>5009023</td><td>F</td><td>N</td><td>Y</td><td>2</td><td>216000</td><td>State servant       </td><td>Higher education             </td><td>Married  </td><td>⋯</td><td> -3112</td><td>1</td><td>0</td><td>0</td><td>1</td><td>4</td><td>0</td><td>1981-08-09</td><td>42</td><td>y</td></tr>\n",
              "\t<tr><th scope=row>6</th><td>6</td><td>5009053</td><td>F</td><td>N</td><td>Y</td><td>2</td><td>202500</td><td>Working             </td><td>Higher education             </td><td>Married  </td><td>⋯</td><td> -2289</td><td>1</td><td>0</td><td>0</td><td>1</td><td>4</td><td>0</td><td>1993-10-12</td><td>30</td><td>y</td></tr>\n",
              "</tbody>\n",
              "</table>\n"
            ],
            "text/markdown": "\nA data.frame: 6 × 21\n\n| <!--/--> | X &lt;int&gt; | Ind_ID &lt;int&gt; | GENDER &lt;chr&gt; | Car_Owner &lt;chr&gt; | Propert_Owner &lt;chr&gt; | CHILDREN &lt;int&gt; | Annual_income &lt;dbl&gt; | Type_Income &lt;chr&gt; | EDUCATION &lt;chr&gt; | Marital_status &lt;chr&gt; | ⋯ ⋯ | Employed_days &lt;int&gt; | Mobile_phone &lt;int&gt; | Work_Phone &lt;int&gt; | Phone &lt;int&gt; | EMAIL_ID &lt;int&gt; | Family_Members &lt;int&gt; | label &lt;int&gt; | Birthday_date &lt;chr&gt; | age &lt;int&gt; | Employed &lt;chr&gt; |\n|---|---|---|---|---|---|---|---|---|---|---|---|---|---|---|---|---|---|---|---|---|---|\n| 1 | 1 | 5008827 | M | Y | Y | 0 | 180000 | Pensioner            | Higher education              | Married   | ⋯ | 365243 | 1 | 0 | 0 | 0 | 2 | 1 | 1972-06-29 | 51 | n |\n| 2 | 2 | 5008865 | F | Y | Y | 2 | 135000 | Working              | Secondary / secondary special | Married   | ⋯ |  -3173 | 1 | 0 | 0 | 0 | 4 | 0 | 1980-09-26 | 43 | y |\n| 3 | 3 | 5008889 | F | N | Y | 0 | 247500 | Commercial associate | Higher education              | Separated | ⋯ |  -1347 | 1 | 0 | 0 | 0 | 1 | 0 | 1977-04-20 | 46 | y |\n| 4 | 4 | 5009000 | M | Y | Y | 0 | 157500 | Working              | Secondary / secondary special | Married   | ⋯ |   -828 | 1 | 0 | 0 | 0 | 2 | 0 | 1996-09-16 | 27 | y |\n| 5 | 5 | 5009023 | F | N | Y | 2 | 216000 | State servant        | Higher education              | Married   | ⋯ |  -3112 | 1 | 0 | 0 | 1 | 4 | 0 | 1981-08-09 | 42 | y |\n| 6 | 6 | 5009053 | F | N | Y | 2 | 202500 | Working              | Higher education              | Married   | ⋯ |  -2289 | 1 | 0 | 0 | 1 | 4 | 0 | 1993-10-12 | 30 | y |\n\n",
            "text/latex": "A data.frame: 6 × 21\n\\begin{tabular}{r|lllllllllllllllllllll}\n  & X & Ind\\_ID & GENDER & Car\\_Owner & Propert\\_Owner & CHILDREN & Annual\\_income & Type\\_Income & EDUCATION & Marital\\_status & ⋯ & Employed\\_days & Mobile\\_phone & Work\\_Phone & Phone & EMAIL\\_ID & Family\\_Members & label & Birthday\\_date & age & Employed\\\\\n  & <int> & <int> & <chr> & <chr> & <chr> & <int> & <dbl> & <chr> & <chr> & <chr> & ⋯ & <int> & <int> & <int> & <int> & <int> & <int> & <int> & <chr> & <int> & <chr>\\\\\n\\hline\n\t1 & 1 & 5008827 & M & Y & Y & 0 & 180000 & Pensioner            & Higher education              & Married   & ⋯ & 365243 & 1 & 0 & 0 & 0 & 2 & 1 & 1972-06-29 & 51 & n\\\\\n\t2 & 2 & 5008865 & F & Y & Y & 2 & 135000 & Working              & Secondary / secondary special & Married   & ⋯ &  -3173 & 1 & 0 & 0 & 0 & 4 & 0 & 1980-09-26 & 43 & y\\\\\n\t3 & 3 & 5008889 & F & N & Y & 0 & 247500 & Commercial associate & Higher education              & Separated & ⋯ &  -1347 & 1 & 0 & 0 & 0 & 1 & 0 & 1977-04-20 & 46 & y\\\\\n\t4 & 4 & 5009000 & M & Y & Y & 0 & 157500 & Working              & Secondary / secondary special & Married   & ⋯ &   -828 & 1 & 0 & 0 & 0 & 2 & 0 & 1996-09-16 & 27 & y\\\\\n\t5 & 5 & 5009023 & F & N & Y & 2 & 216000 & State servant        & Higher education              & Married   & ⋯ &  -3112 & 1 & 0 & 0 & 1 & 4 & 0 & 1981-08-09 & 42 & y\\\\\n\t6 & 6 & 5009053 & F & N & Y & 2 & 202500 & Working              & Higher education              & Married   & ⋯ &  -2289 & 1 & 0 & 0 & 1 & 4 & 0 & 1993-10-12 & 30 & y\\\\\n\\end{tabular}\n",
            "text/plain": [
              "  X Ind_ID  GENDER Car_Owner Propert_Owner CHILDREN Annual_income\n",
              "1 1 5008827 M      Y         Y             0        180000       \n",
              "2 2 5008865 F      Y         Y             2        135000       \n",
              "3 3 5008889 F      N         Y             0        247500       \n",
              "4 4 5009000 M      Y         Y             0        157500       \n",
              "5 5 5009023 F      N         Y             2        216000       \n",
              "6 6 5009053 F      N         Y             2        202500       \n",
              "  Type_Income          EDUCATION                     Marital_status ⋯\n",
              "1 Pensioner            Higher education              Married        ⋯\n",
              "2 Working              Secondary / secondary special Married        ⋯\n",
              "3 Commercial associate Higher education              Separated      ⋯\n",
              "4 Working              Secondary / secondary special Married        ⋯\n",
              "5 State servant        Higher education              Married        ⋯\n",
              "6 Working              Higher education              Married        ⋯\n",
              "  Employed_days Mobile_phone Work_Phone Phone EMAIL_ID Family_Members label\n",
              "1 365243        1            0          0     0        2              1    \n",
              "2  -3173        1            0          0     0        4              0    \n",
              "3  -1347        1            0          0     0        1              0    \n",
              "4   -828        1            0          0     0        2              0    \n",
              "5  -3112        1            0          0     1        4              0    \n",
              "6  -2289        1            0          0     1        4              0    \n",
              "  Birthday_date age Employed\n",
              "1 1972-06-29    51  n       \n",
              "2 1980-09-26    43  y       \n",
              "3 1977-04-20    46  y       \n",
              "4 1996-09-16    27  y       \n",
              "5 1981-08-09    42  y       \n",
              "6 1993-10-12    30  y       "
            ]
          },
          "metadata": {}
        }
      ]
    },
    {
      "cell_type": "code",
      "source": [
        "#Solo dejaremos las columnas con las que vamos a trabajar\n",
        "colnames(df_credit_card)\n",
        "columnas_a_usar <- c('GENDER','Car_Owner','Propert_Owner','CHILDREN','Annual_income','Family_Members',\n",
        "  'label','age','Employed','EDUCATION', 'Marital_status', 'Type_Income', 'Housing_type')\n",
        "\n",
        "# Creamos un subconjunto con las columnas especificadas\n",
        "df_credit_card <- df_credit_card[ , columnas_a_usar]"
      ],
      "metadata": {
        "colab": {
          "base_uri": "https://localhost:8080/",
          "height": 34
        },
        "id": "lwpCscUC97vR",
        "outputId": "8f49787a-3ebc-479d-a019-09b3fec2a666"
      },
      "execution_count": 5,
      "outputs": [
        {
          "output_type": "display_data",
          "data": {
            "text/html": [
              "<style>\n",
              ".list-inline {list-style: none; margin:0; padding: 0}\n",
              ".list-inline>li {display: inline-block}\n",
              ".list-inline>li:not(:last-child)::after {content: \"\\00b7\"; padding: 0 .5ex}\n",
              "</style>\n",
              "<ol class=list-inline><li>'GENDER'</li><li>'Car_Owner'</li><li>'Propert_Owner'</li><li>'CHILDREN'</li><li>'Annual_income'</li><li>'Family_Members'</li><li>'label'</li><li>'age'</li><li>'Employed'</li><li>'EDUCATION'</li><li>'Marital_status'</li><li>'Type_Income'</li><li>'Housing_type'</li></ol>\n"
            ],
            "text/markdown": "1. 'GENDER'\n2. 'Car_Owner'\n3. 'Propert_Owner'\n4. 'CHILDREN'\n5. 'Annual_income'\n6. 'Family_Members'\n7. 'label'\n8. 'age'\n9. 'Employed'\n10. 'EDUCATION'\n11. 'Marital_status'\n12. 'Type_Income'\n13. 'Housing_type'\n\n\n",
            "text/latex": "\\begin{enumerate*}\n\\item 'GENDER'\n\\item 'Car\\_Owner'\n\\item 'Propert\\_Owner'\n\\item 'CHILDREN'\n\\item 'Annual\\_income'\n\\item 'Family\\_Members'\n\\item 'label'\n\\item 'age'\n\\item 'Employed'\n\\item 'EDUCATION'\n\\item 'Marital\\_status'\n\\item 'Type\\_Income'\n\\item 'Housing\\_type'\n\\end{enumerate*}\n",
            "text/plain": [
              " [1] \"GENDER\"         \"Car_Owner\"      \"Propert_Owner\"  \"CHILDREN\"      \n",
              " [5] \"Annual_income\"  \"Family_Members\" \"label\"          \"age\"           \n",
              " [9] \"Employed\"       \"EDUCATION\"      \"Marital_status\" \"Type_Income\"   \n",
              "[13] \"Housing_type\"  "
            ]
          },
          "metadata": {}
        }
      ]
    },
    {
      "cell_type": "code",
      "source": [
        "#Verificamos que haya quedado la estructura que deseamos\n",
        "str(df_credit_card)\n",
        "\n",
        "#Movemos la columna de la etiqueta al final\n",
        "df_credit_card <- df_credit_card %>% select(-label, everything(), label)\n",
        "\n",
        "#Le cambio el tipo a factor para que no sea numerico\n",
        "df_credit_card$label <- factor(df_credit_card$label)"
      ],
      "metadata": {
        "colab": {
          "base_uri": "https://localhost:8080/"
        },
        "id": "T29D7mfI-bPi",
        "outputId": "3d16b196-c0eb-475c-9ff6-851de85b8877"
      },
      "execution_count": 7,
      "outputs": [
        {
          "output_type": "stream",
          "name": "stdout",
          "text": [
            "'data.frame':\t1496 obs. of  13 variables:\n",
            " $ GENDER        : chr  \"M\" \"F\" \"F\" \"M\" ...\n",
            " $ Car_Owner     : chr  \"Y\" \"Y\" \"N\" \"Y\" ...\n",
            " $ Propert_Owner : chr  \"Y\" \"Y\" \"Y\" \"Y\" ...\n",
            " $ CHILDREN      : int  0 2 0 0 2 2 1 0 0 0 ...\n",
            " $ Annual_income : num  180000 135000 247500 157500 216000 ...\n",
            " $ Family_Members: int  2 4 1 2 4 4 3 1 2 2 ...\n",
            " $ age           : int  51 43 46 27 42 30 48 43 43 57 ...\n",
            " $ Employed      : chr  \"n\" \"y\" \"y\" \"y\" ...\n",
            " $ EDUCATION     : chr  \"Higher education\" \"Secondary / secondary special\" \"Higher education\" \"Secondary / secondary special\" ...\n",
            " $ Marital_status: chr  \"Married\" \"Married\" \"Separated\" \"Married\" ...\n",
            " $ Type_Income   : chr  \"Pensioner\" \"Working\" \"Commercial associate\" \"Working\" ...\n",
            " $ Housing_type  : chr  \"House / apartment\" \"House / apartment\" \"Rented apartment\" \"House / apartment\" ...\n",
            " $ label         : Factor w/ 2 levels \"0\",\"1\": 2 1 1 1 1 1 1 1 1 1 ...\n"
          ]
        }
      ]
    },
    {
      "cell_type": "markdown",
      "source": [
        "Para SVM tenemos que castear algunas columnas con variables categórícas, es decir, convertims cada categoría en una columna con valores 0 o 1 dependiendo si se cumple o no la categoría."
      ],
      "metadata": {
        "id": "bHh8ejmB-mp-"
      }
    },
    {
      "cell_type": "code",
      "source": [
        "columnas_a_castear <- c('EDUCATION', 'Marital_status', 'Type_Income', 'Housing_type')\n",
        "\n",
        "# Utilizamos fastDummies para convertir las columnas en filas\n",
        "df_credit_cardSVM <- fastDummies::dummy_cols(df_credit_card, select_columns = columnas_a_castear)\n",
        "str(df_credit_cardSVM)"
      ],
      "metadata": {
        "colab": {
          "base_uri": "https://localhost:8080/"
        },
        "id": "yiuv8n2t-oJ-",
        "outputId": "43b253c4-bf06-4930-d01f-aaaa83db6b8e"
      },
      "execution_count": 8,
      "outputs": [
        {
          "output_type": "stream",
          "name": "stdout",
          "text": [
            "'data.frame':\t1496 obs. of  33 variables:\n",
            " $ GENDER                                 : chr  \"M\" \"F\" \"F\" \"M\" ...\n",
            " $ Car_Owner                              : chr  \"Y\" \"Y\" \"N\" \"Y\" ...\n",
            " $ Propert_Owner                          : chr  \"Y\" \"Y\" \"Y\" \"Y\" ...\n",
            " $ CHILDREN                               : int  0 2 0 0 2 2 1 0 0 0 ...\n",
            " $ Annual_income                          : num  180000 135000 247500 157500 216000 ...\n",
            " $ Family_Members                         : int  2 4 1 2 4 4 3 1 2 2 ...\n",
            " $ age                                    : int  51 43 46 27 42 30 48 43 43 57 ...\n",
            " $ Employed                               : chr  \"n\" \"y\" \"y\" \"y\" ...\n",
            " $ EDUCATION                              : chr  \"Higher education\" \"Secondary / secondary special\" \"Higher education\" \"Secondary / secondary special\" ...\n",
            " $ Marital_status                         : chr  \"Married\" \"Married\" \"Separated\" \"Married\" ...\n",
            " $ Type_Income                            : chr  \"Pensioner\" \"Working\" \"Commercial associate\" \"Working\" ...\n",
            " $ Housing_type                           : chr  \"House / apartment\" \"House / apartment\" \"Rented apartment\" \"House / apartment\" ...\n",
            " $ label                                  : Factor w/ 2 levels \"0\",\"1\": 2 1 1 1 1 1 1 1 1 1 ...\n",
            " $ EDUCATION_Academic degree              : int  0 0 0 0 0 0 0 0 0 0 ...\n",
            " $ EDUCATION_Higher education             : int  1 0 1 0 1 1 1 1 1 0 ...\n",
            " $ EDUCATION_Incomplete higher            : int  0 0 0 0 0 0 0 0 0 0 ...\n",
            " $ EDUCATION_Lower secondary              : int  0 0 0 0 0 0 0 0 0 0 ...\n",
            " $ EDUCATION_Secondary / secondary special: int  0 1 0 1 0 0 0 0 0 1 ...\n",
            " $ Marital_status_Civil marriage          : int  0 0 0 0 0 0 0 0 0 0 ...\n",
            " $ Marital_status_Married                 : int  1 1 0 1 1 1 1 0 1 1 ...\n",
            " $ Marital_status_Separated               : int  0 0 1 0 0 0 0 1 0 0 ...\n",
            " $ Marital_status_Single / not married    : int  0 0 0 0 0 0 0 0 0 0 ...\n",
            " $ Marital_status_Widow                   : int  0 0 0 0 0 0 0 0 0 0 ...\n",
            " $ Type_Income_Commercial associate       : int  0 0 1 0 0 0 0 1 0 0 ...\n",
            " $ Type_Income_Pensioner                  : int  1 0 0 0 0 0 0 0 0 0 ...\n",
            " $ Type_Income_State servant              : int  0 0 0 0 1 0 1 0 0 1 ...\n",
            " $ Type_Income_Working                    : int  0 1 0 1 0 1 0 0 1 0 ...\n",
            " $ Housing_type_Co-op apartment           : int  0 0 0 0 0 0 0 0 0 0 ...\n",
            " $ Housing_type_House / apartment         : int  1 1 0 1 1 1 1 0 1 1 ...\n",
            " $ Housing_type_Municipal apartment       : int  0 0 0 0 0 0 0 0 0 0 ...\n",
            " $ Housing_type_Office apartment          : int  0 0 0 0 0 0 0 0 0 0 ...\n",
            " $ Housing_type_Rented apartment          : int  0 0 1 0 0 0 0 0 0 0 ...\n",
            " $ Housing_type_With parents              : int  0 0 0 0 0 0 0 1 0 0 ...\n"
          ]
        }
      ]
    },
    {
      "cell_type": "code",
      "source": [
        "# Eliminamos las columnas en df_credit_cardSVM\n",
        "df_credit_cardSVM <- df_credit_cardSVM[, !(names(df_credit_cardSVM) %in% columnas_a_castear)]\n",
        "\n",
        "#Movemos la columna de la etiqueta al final\n",
        "df_credit_cardSVM <- df_credit_cardSVM %>% select(-label, everything(), label)\n",
        "\n",
        "table(df_credit_cardSVM$label)"
      ],
      "metadata": {
        "colab": {
          "base_uri": "https://localhost:8080/",
          "height": 69
        },
        "id": "9VezRe49-xTp",
        "outputId": "f93e20b9-081c-434c-f76e-5ba8e5c3964f"
      },
      "execution_count": 9,
      "outputs": [
        {
          "output_type": "display_data",
          "data": {
            "text/plain": [
              "\n",
              "   0    1 \n",
              "1336  160 "
            ]
          },
          "metadata": {}
        }
      ]
    },
    {
      "cell_type": "markdown",
      "source": [
        "# Solucionamos el desbalanceo"
      ],
      "metadata": {
        "id": "P-3wTNxOG8RF"
      }
    },
    {
      "cell_type": "markdown",
      "source": [
        "Opción 1, elegir 160 filas aleatorias con label = 0"
      ],
      "metadata": {
        "id": "wZycJePFHICa"
      }
    },
    {
      "cell_type": "code",
      "source": [
        "# Creamos un subconjunto de 160 filas con label = 0 al azar\n",
        "  # Creamos un df con las filas con etiqueta 0\n",
        "df_label_0 <- df_credit_card[df_credit_card$label == 0, ]\n",
        "sampled_df_label_0 <- df_label_0[sample(nrow(df_label_0), 160), ]\n",
        "\n",
        "# Creamos un subconjunto con las filas con label = 1\n",
        "df_label_1 <- df_credit_card[df_credit_card$label == 1, ]\n",
        "\n",
        "# Combinamos los subconjuntos en un DataFrame balanceado\n",
        "df_balanceado160 <- rbind(sampled_df_label_0, df_label_1)"
      ],
      "metadata": {
        "id": "cu_sG7zWG7dw"
      },
      "execution_count": 24,
      "outputs": []
    },
    {
      "cell_type": "code",
      "source": [
        "table(df_balanceado160$label)"
      ],
      "metadata": {
        "id": "s67TXmC5OWa8",
        "colab": {
          "base_uri": "https://localhost:8080/",
          "height": 69
        },
        "outputId": "51644def-6c1c-4bca-fbcb-bac0e82cf9da"
      },
      "execution_count": 25,
      "outputs": [
        {
          "output_type": "display_data",
          "data": {
            "text/plain": [
              "\n",
              "  0   1 \n",
              "160 160 "
            ]
          },
          "metadata": {}
        }
      ]
    },
    {
      "cell_type": "markdown",
      "source": [
        "Opción 2, duplicamos las flas con label = 1"
      ],
      "metadata": {
        "id": "cTswgZvMMolh"
      }
    },
    {
      "cell_type": "code",
      "source": [
        "# Creamos un subconjunto con las filas con label = 1\n",
        "df_label_1 <- df_credit_card[df_credit_card$label == 1, ]\n",
        "\n",
        "# Duplicamos las filas con label = 1\n",
        "duplicados_label_1 <- rbind(df_label_1, df_label_1)\n",
        "\n",
        "# Creamos un subconjunto de 320 filas con label = 0 al azar\n",
        "df_label_0 <- df_credit_card[df_credit_card$label == 0, ]\n",
        "sampled_df_label_0 <- df_label_0[sample(nrow(df_label_0), 320), ]\n",
        "\n",
        "# Combinamos los DataFrames de 320 filas obtenidos\n",
        "df_balanceado320 <- rbind(duplicados_label_1, sampled_df_label_0)"
      ],
      "metadata": {
        "id": "GjE0OwpkMoGt"
      },
      "execution_count": 26,
      "outputs": []
    },
    {
      "cell_type": "code",
      "source": [
        "str(df_balanceado320)"
      ],
      "metadata": {
        "id": "UgglyO47OPn9",
        "colab": {
          "base_uri": "https://localhost:8080/"
        },
        "outputId": "18de556f-6a7b-4038-c516-ed63a0deb10e"
      },
      "execution_count": 27,
      "outputs": [
        {
          "output_type": "stream",
          "name": "stdout",
          "text": [
            "'data.frame':\t640 obs. of  13 variables:\n",
            " $ GENDER        : chr  \"M\" \"F\" \"F\" \"F\" ...\n",
            " $ Car_Owner     : chr  \"Y\" \"Y\" \"Y\" \"Y\" ...\n",
            " $ Propert_Owner : chr  \"Y\" \"N\" \"N\" \"N\" ...\n",
            " $ CHILDREN      : int  0 0 0 0 0 1 1 1 0 0 ...\n",
            " $ Annual_income : num  180000 315000 315000 315000 180000 450000 450000 450000 90000 90000 ...\n",
            " $ Family_Members: int  2 2 2 2 2 3 3 1 2 2 ...\n",
            " $ age           : int  51 37 37 37 60 49 49 49 51 51 ...\n",
            " $ Employed      : chr  \"n\" \"y\" \"y\" \"y\" ...\n",
            " $ EDUCATION     : chr  \"Higher education\" \"Higher education\" \"Higher education\" \"Higher education\" ...\n",
            " $ Marital_status: chr  \"Married\" \"Married\" \"Married\" \"Married\" ...\n",
            " $ Type_Income   : chr  \"Pensioner\" \"Commercial associate\" \"Commercial associate\" \"Commercial associate\" ...\n",
            " $ Housing_type  : chr  \"House / apartment\" \"House / apartment\" \"House / apartment\" \"House / apartment\" ...\n",
            " $ label         : Factor w/ 2 levels \"0\",\"1\": 2 2 2 2 2 2 2 2 2 2 ...\n"
          ]
        }
      ]
    },
    {
      "cell_type": "code",
      "source": [
        "table(df_balanceado320$label)"
      ],
      "metadata": {
        "colab": {
          "base_uri": "https://localhost:8080/",
          "height": 69
        },
        "id": "V7aar0kbOfkT",
        "outputId": "4ef0d1a4-5a0a-4c05-a5d8-d996d211552d"
      },
      "execution_count": 28,
      "outputs": [
        {
          "output_type": "display_data",
          "data": {
            "text/plain": [
              "\n",
              "  0   1 \n",
              "320 320 "
            ]
          },
          "metadata": {}
        }
      ]
    },
    {
      "cell_type": "markdown",
      "source": [
        "Opción 3, trabajamos con el dataset desbalanceado"
      ],
      "metadata": {
        "id": "IVxpRhTNOljS"
      }
    },
    {
      "cell_type": "markdown",
      "source": [
        "# Comenzamos con SVM\n",
        "Creamos los df balanceados con el df resultante después del casteo"
      ],
      "metadata": {
        "id": "jh5tjUpWgqAH"
      }
    },
    {
      "cell_type": "markdown",
      "source": [
        "Opción 1"
      ],
      "metadata": {
        "id": "FtBfskZhSnDe"
      }
    },
    {
      "cell_type": "code",
      "source": [
        "# Creamos un subconjunto de 160 filas con label = 0 al azar\n",
        "df_label_0 <- df_credit_cardSVM[df_credit_cardSVM$label == 0, ]\n",
        "sampled_df_label_0 <- df_label_0[sample(nrow(df_label_0), 160), ]\n",
        "\n",
        "# Creamos un subconjunto con las filas con label = 1\n",
        "df_label_1 <- df_credit_cardSVM[df_credit_cardSVM$label == 1, ]\n",
        "\n",
        "# Combinamos los subconjuntos en un DataFrame balanceado\n",
        "df_balanceado160SVM <- rbind(sampled_df_label_0, df_label_1)"
      ],
      "metadata": {
        "id": "0FMpEwX5kLg0"
      },
      "execution_count": 29,
      "outputs": []
    },
    {
      "cell_type": "code",
      "source": [
        "#seteamos la semilla para que el experimento sea reproducible\n",
        "set.seed(2023)\n",
        "#particionamos el df en 70% para entrenamiento y 30% para prueba\n",
        "t.ids <- createDataPartition(df_balanceado160SVM$label, p =0.7, list=F)\n",
        "#entrenamiento\n",
        "modelo <- svm(label ~ ., data = df_balanceado160SVM[t.ids, ])\n",
        "#prueba\n",
        "prediccion <- predict(modelo, df_balanceado160SVM[-t.ids, ])\n",
        "#creamos una matriz de confusión\n",
        "matriz_confusion <- table(df_balanceado160SVM$label[-t.ids], prediccion, dnn = c('Real', 'Predicho'))"
      ],
      "metadata": {
        "id": "q0zbC8HQgzqW",
        "colab": {
          "base_uri": "https://localhost:8080/"
        },
        "outputId": "8c762393-62a7-41f4-f963-e4cf17333d1e"
      },
      "execution_count": 35,
      "outputs": [
        {
          "output_type": "stream",
          "name": "stderr",
          "text": [
            "Warning message in svm.default(x, y, scale = scale, ..., na.action = na.action):\n",
            "“Variable(s) ‘X.Housing_type_Co.op.apartment.’ constant. Cannot scale data.”\n"
          ]
        }
      ]
    },
    {
      "cell_type": "code",
      "source": [
        "matriz_confusion"
      ],
      "metadata": {
        "id": "5BJGP5Hgb9FY",
        "colab": {
          "base_uri": "https://localhost:8080/",
          "height": 86
        },
        "outputId": "05bad9de-6036-4e10-fe47-8b83d5ebb0de"
      },
      "execution_count": 36,
      "outputs": [
        {
          "output_type": "display_data",
          "data": {
            "text/plain": [
              "    Predicho\n",
              "Real  0  1\n",
              "   0 39  9\n",
              "   1 22 26"
            ]
          },
          "metadata": {}
        }
      ]
    },
    {
      "cell_type": "code",
      "source": [
        "#Error calculado como (total de filas mal clasificadas/total de filas)\n",
        "sum(prediccion != df_balanceado160$label[-t.ids])/length(df_balanceado160$label[-t.ids])"
      ],
      "metadata": {
        "id": "ScXEQY6yPgh8",
        "colab": {
          "base_uri": "https://localhost:8080/",
          "height": 34
        },
        "outputId": "7721d611-3f87-44e2-9615-35fcfbb754ea"
      },
      "execution_count": 32,
      "outputs": [
        {
          "output_type": "display_data",
          "data": {
            "text/html": [
              "0.322916666666667"
            ],
            "text/markdown": "0.322916666666667",
            "text/latex": "0.322916666666667",
            "text/plain": [
              "[1] 0.3229167"
            ]
          },
          "metadata": {}
        }
      ]
    },
    {
      "cell_type": "code",
      "source": [
        "#Error calculado usando la matriz de confusión (equivalente a la anterior)\n",
        "1 - sum(diag(matriz_confusion)) / sum(matriz_confusion)"
      ],
      "metadata": {
        "id": "cehNNyMWRuKl",
        "colab": {
          "base_uri": "https://localhost:8080/",
          "height": 34
        },
        "outputId": "6f0eb9d3-6fac-42f3-de45-ecdbec468a0f"
      },
      "execution_count": 33,
      "outputs": [
        {
          "output_type": "display_data",
          "data": {
            "text/html": [
              "0.322916666666667"
            ],
            "text/markdown": "0.322916666666667",
            "text/latex": "0.322916666666667",
            "text/plain": [
              "[1] 0.3229167"
            ]
          },
          "metadata": {}
        }
      ]
    },
    {
      "cell_type": "code",
      "source": [
        "# Calculamos las métricas de precisión y sensibilidad\n",
        "precision <- (matriz_confusion[1, 1] + matriz_confusion[2, 2]) / sum(matriz_confusion)\n",
        "sensibilidad <- matriz_confusion[2, 2] / sum(matriz_confusion[2, ])\n",
        "print(precision)\n",
        "print(sensibilidad)"
      ],
      "metadata": {
        "id": "x2J5VyozZI0t",
        "colab": {
          "base_uri": "https://localhost:8080/"
        },
        "outputId": "bf94284b-fee1-4823-8173-b02480521e32"
      },
      "execution_count": 34,
      "outputs": [
        {
          "output_type": "stream",
          "name": "stdout",
          "text": [
            "[1] 0.6770833\n",
            "[1] 0.5416667\n"
          ]
        }
      ]
    },
    {
      "cell_type": "markdown",
      "source": [
        "Opción 2"
      ],
      "metadata": {
        "id": "jyaTYJiESwft"
      }
    },
    {
      "cell_type": "code",
      "source": [
        "# Creamos un subconjunto con las filas con label = 1\n",
        "df_label_1 <- df_credit_cardSVM[df_credit_cardSVM$label == 1, ]\n",
        "\n",
        "# Duplicamos las filas con label = 1\n",
        "duplicados_label_1 <- rbind(df_label_1, df_label_1)\n",
        "\n",
        "# Creamos un subconjunto de 1320 filas con label = 0 al azar\n",
        "df_label_0 <- df_credit_cardSVM[df_credit_cardSVM$label == 0, ]\n",
        "sampled_df_label_0 <- df_label_0[sample(nrow(df_label_0), 320), ]\n",
        "\n",
        "# Combinamos los DataFrames de 320 filas obtenidos\n",
        "df_balanceado320SVM <- rbind(duplicados_label_1, sampled_df_label_0)"
      ],
      "metadata": {
        "id": "6uF6HqIRlS1L"
      },
      "execution_count": 37,
      "outputs": []
    },
    {
      "cell_type": "code",
      "source": [
        "set.seed(2023)\n",
        "t.ids <- createDataPartition(df_balanceado320SVM$label, p =0.7, list=F)\n",
        "modelo <- svm(label ~ ., data = df_balanceado320SVM[t.ids, ])\n",
        "prediccion <- predict(modelo, df_balanceado320SVM[-t.ids, ])\n",
        "matriz_confusion <- table(df_balanceado320SVM$label[-t.ids], prediccion, dnn = c('Real', 'Predicho'))"
      ],
      "metadata": {
        "id": "DD7AF79-SuFr"
      },
      "execution_count": 40,
      "outputs": []
    },
    {
      "cell_type": "code",
      "source": [
        "print(matriz_confusion)"
      ],
      "metadata": {
        "colab": {
          "base_uri": "https://localhost:8080/"
        },
        "outputId": "3011043e-3f04-407b-ad78-e8d5ba9b5f6d",
        "id": "kmcmU26TSuF7"
      },
      "execution_count": 41,
      "outputs": [
        {
          "output_type": "stream",
          "name": "stdout",
          "text": [
            "    Predicho\n",
            "Real  0  1\n",
            "   0 59 37\n",
            "   1 43 53\n"
          ]
        }
      ]
    },
    {
      "cell_type": "code",
      "source": [
        "sum(prediccion != df_balanceado320$label[-t.ids])/length(df_balanceado320$label[-t.ids])"
      ],
      "metadata": {
        "id": "d7rUguBQSuF8",
        "colab": {
          "base_uri": "https://localhost:8080/",
          "height": 34
        },
        "outputId": "5f36bb31-a599-4612-c9e5-c5411add10b9"
      },
      "execution_count": 42,
      "outputs": [
        {
          "output_type": "display_data",
          "data": {
            "text/html": [
              "0.416666666666667"
            ],
            "text/markdown": "0.416666666666667",
            "text/latex": "0.416666666666667",
            "text/plain": [
              "[1] 0.4166667"
            ]
          },
          "metadata": {}
        }
      ]
    },
    {
      "cell_type": "code",
      "source": [
        "1 - sum(diag(matriz_confusion)) / sum(matriz_confusion)"
      ],
      "metadata": {
        "id": "l4IsjJr7SuF9",
        "colab": {
          "base_uri": "https://localhost:8080/",
          "height": 34
        },
        "outputId": "6859b003-7863-4f1f-9c11-adfd5fa7c3ae"
      },
      "execution_count": 43,
      "outputs": [
        {
          "output_type": "display_data",
          "data": {
            "text/html": [
              "0.416666666666667"
            ],
            "text/markdown": "0.416666666666667",
            "text/latex": "0.416666666666667",
            "text/plain": [
              "[1] 0.4166667"
            ]
          },
          "metadata": {}
        }
      ]
    },
    {
      "cell_type": "code",
      "source": [
        "# Precisión\n",
        "precision <- (matriz_confusion[1, 1] + matriz_confusion[2, 2]) / sum(matriz_confusion)\n",
        "\n",
        "# Sensibilidad (Recall)\n",
        "sensibilidad <- matriz_confusion[2, 2] / sum(matriz_confusion[2, ])\n",
        "\n",
        "print(precision)\n",
        "print(sensibilidad)"
      ],
      "metadata": {
        "id": "YbVBkugAZFB_",
        "colab": {
          "base_uri": "https://localhost:8080/"
        },
        "outputId": "71ea124c-6d65-4ac8-d255-a2bd790e1b0b"
      },
      "execution_count": 44,
      "outputs": [
        {
          "output_type": "stream",
          "name": "stdout",
          "text": [
            "[1] 0.5833333\n",
            "[1] 0.5520833\n"
          ]
        }
      ]
    },
    {
      "cell_type": "markdown",
      "source": [
        "Opción 3"
      ],
      "metadata": {
        "id": "nk8rw2UjZ0lQ"
      }
    },
    {
      "cell_type": "code",
      "source": [
        "set.seed(2023)\n",
        "t.ids <- createDataPartition(df_credit_cardSVM$label, p =0.7, list=F)\n",
        "modelo <- svm(label ~ ., data = df_credit_cardSVM[t.ids, ])\n",
        "prediccion <- predict(modelo, df_credit_cardSVM[-t.ids, ])\n",
        "matriz_confusion <- table(df_credit_cardSVM$label[-t.ids], prediccion, dnn = c('Real', 'Predicho'))"
      ],
      "metadata": {
        "id": "zuS7KEGEZum5"
      },
      "execution_count": 45,
      "outputs": []
    },
    {
      "cell_type": "code",
      "source": [
        "print(matriz_confusion)"
      ],
      "metadata": {
        "id": "CE10n5mZZuna",
        "colab": {
          "base_uri": "https://localhost:8080/"
        },
        "outputId": "d1f24d63-fade-45c8-cb42-90f7e15a4cab"
      },
      "execution_count": 46,
      "outputs": [
        {
          "output_type": "stream",
          "name": "stdout",
          "text": [
            "    Predicho\n",
            "Real   0   1\n",
            "   0 400   0\n",
            "   1  48   0\n"
          ]
        }
      ]
    },
    {
      "cell_type": "code",
      "source": [
        "sum(prediccion != df_credit_cardSVM$label[-t.ids])/length(df_credit_cardSVM$label[-t.ids])"
      ],
      "metadata": {
        "id": "d_W_eINtZunb",
        "colab": {
          "base_uri": "https://localhost:8080/",
          "height": 34
        },
        "outputId": "2b2fb749-f83a-4daf-9f22-5792f4c03266"
      },
      "execution_count": 47,
      "outputs": [
        {
          "output_type": "display_data",
          "data": {
            "text/html": [
              "0.107142857142857"
            ],
            "text/markdown": "0.107142857142857",
            "text/latex": "0.107142857142857",
            "text/plain": [
              "[1] 0.1071429"
            ]
          },
          "metadata": {}
        }
      ]
    },
    {
      "cell_type": "code",
      "source": [
        "1 - sum(diag(matriz_confusion)) / sum(matriz_confusion)"
      ],
      "metadata": {
        "id": "sbpnka0uZunb",
        "colab": {
          "base_uri": "https://localhost:8080/",
          "height": 34
        },
        "outputId": "34aaab1f-c209-48f3-98db-f868e60165f6"
      },
      "execution_count": 48,
      "outputs": [
        {
          "output_type": "display_data",
          "data": {
            "text/html": [
              "0.107142857142857"
            ],
            "text/markdown": "0.107142857142857",
            "text/latex": "0.107142857142857",
            "text/plain": [
              "[1] 0.1071429"
            ]
          },
          "metadata": {}
        }
      ]
    },
    {
      "cell_type": "code",
      "source": [
        "# Precisión\n",
        "precision <- (matriz_confusion[1, 1] + matriz_confusion[2, 2]) / sum(matriz_confusion)\n",
        "\n",
        "# Sensibilidad (Recall)\n",
        "sensibilidad <- matriz_confusion[2, 2] / sum(matriz_confusion[2, ])\n",
        "\n",
        "print(precision)\n",
        "print(sensibilidad)"
      ],
      "metadata": {
        "id": "pd8uHTAcZunc",
        "colab": {
          "base_uri": "https://localhost:8080/"
        },
        "outputId": "53f1607f-1d5d-4be2-ff32-b1366cbe55d4"
      },
      "execution_count": 49,
      "outputs": [
        {
          "output_type": "stream",
          "name": "stdout",
          "text": [
            "[1] 0.8928571\n",
            "[1] 0\n"
          ]
        }
      ]
    },
    {
      "cell_type": "markdown",
      "source": [
        "# Random Forest\n",
        "Trabajamos con las columnas de variables categóricas sin castear"
      ],
      "metadata": {
        "id": "LPx4gv6Ea2J0"
      }
    },
    {
      "cell_type": "code",
      "source": [
        "set.seed(2023)\n",
        "t.ids <- createDataPartition(df_credit_card$label, p =0.7, list=F)\n",
        "modelo_rf <- randomForest(label ~ ., data = df_credit_card[t.ids, ])\n",
        "prediccion_rf <- predict(modelo_rf, newdata = df_credit_card[-t.ids, ])\n",
        "matriz_confusion <- table(prediccion_rf, df_credit_card$label[-t.ids], dnn = c('Real' ,'Predicho'))"
      ],
      "metadata": {
        "id": "oaevi_2ca1k4"
      },
      "execution_count": 50,
      "outputs": []
    },
    {
      "cell_type": "code",
      "source": [
        "matriz_confusion"
      ],
      "metadata": {
        "id": "kUFtyPk7ft5-",
        "colab": {
          "base_uri": "https://localhost:8080/",
          "height": 86
        },
        "outputId": "688f7e69-3eb6-4f34-a6a0-b9286e39ebc9"
      },
      "execution_count": 51,
      "outputs": [
        {
          "output_type": "display_data",
          "data": {
            "text/plain": [
              "    Predicho\n",
              "Real   0   1\n",
              "   0 394  40\n",
              "   1   6   8"
            ]
          },
          "metadata": {}
        }
      ]
    },
    {
      "cell_type": "code",
      "source": [
        "1 - sum(diag(matriz_confusion)) / sum(matriz_confusion)"
      ],
      "metadata": {
        "id": "nr8fg85bFZB0",
        "colab": {
          "base_uri": "https://localhost:8080/",
          "height": 34
        },
        "outputId": "7579ce9c-73ca-4ba9-c8ae-efc370582529"
      },
      "execution_count": 52,
      "outputs": [
        {
          "output_type": "display_data",
          "data": {
            "text/html": [
              "0.102678571428571"
            ],
            "text/markdown": "0.102678571428571",
            "text/latex": "0.102678571428571",
            "text/plain": [
              "[1] 0.1026786"
            ]
          },
          "metadata": {}
        }
      ]
    },
    {
      "cell_type": "code",
      "source": [
        "# Precisión\n",
        "precision <- (matriz_confusion[1, 1] + matriz_confusion[2, 2]) / sum(matriz_confusion)\n",
        "\n",
        "# Sensibilidad (Recall)\n",
        "sensibilidad <- matriz_confusion[2, 2] / sum(matriz_confusion[2, ])\n",
        "\n",
        "print(precision)\n",
        "print(sensibilidad)"
      ],
      "metadata": {
        "id": "UFyZSAPzhpBq",
        "colab": {
          "base_uri": "https://localhost:8080/"
        },
        "outputId": "88947c53-2aff-42bd-8348-3d3fff587928"
      },
      "execution_count": 53,
      "outputs": [
        {
          "output_type": "stream",
          "name": "stdout",
          "text": [
            "[1] 0.8973214\n",
            "[1] 0.5714286\n"
          ]
        }
      ]
    },
    {
      "cell_type": "markdown",
      "source": [
        "Otra opción para reducir la cantidad de filas y tratar de balancear el df sería eliminar outliers, en este caso los que estén por encima del 3er cuartil"
      ],
      "metadata": {
        "id": "v6nUeoYtBHxs"
      }
    },
    {
      "cell_type": "code",
      "source": [
        "summary(df_credit_card$Annual_income)"
      ],
      "metadata": {
        "colab": {
          "base_uri": "https://localhost:8080/",
          "height": 52
        },
        "id": "bFByOA_zBWLy",
        "outputId": "2cd6a326-40ab-446a-c9c2-d8faebf22255"
      },
      "execution_count": 54,
      "outputs": [
        {
          "output_type": "display_data",
          "data": {
            "text/plain": [
              "   Min. 1st Qu.  Median    Mean 3rd Qu.    Max. \n",
              "  33750  121050  166050  190775  225000 1575000 "
            ]
          },
          "metadata": {}
        }
      ]
    },
    {
      "cell_type": "code",
      "source": [
        "df_sin_outliers <- subset(df_credit_card, Annual_income <= 225000)"
      ],
      "metadata": {
        "id": "x9h0_xPds5WM"
      },
      "execution_count": 55,
      "outputs": []
    },
    {
      "cell_type": "code",
      "source": [
        "str(df_sin_outliers)"
      ],
      "metadata": {
        "id": "yuZEWmBKtTeY",
        "colab": {
          "base_uri": "https://localhost:8080/"
        },
        "outputId": "8dd95047-da70-4301-8c42-1f4fcdce0063"
      },
      "execution_count": 56,
      "outputs": [
        {
          "output_type": "stream",
          "name": "stdout",
          "text": [
            "'data.frame':\t1164 obs. of  13 variables:\n",
            " $ GENDER        : chr  \"M\" \"F\" \"M\" \"F\" ...\n",
            " $ Car_Owner     : chr  \"Y\" \"Y\" \"Y\" \"N\" ...\n",
            " $ Propert_Owner : chr  \"Y\" \"Y\" \"Y\" \"Y\" ...\n",
            " $ CHILDREN      : int  0 2 0 2 2 0 0 0 0 0 ...\n",
            " $ Annual_income : num  180000 135000 157500 216000 202500 ...\n",
            " $ Family_Members: int  2 4 2 4 4 1 2 1 2 2 ...\n",
            " $ age           : int  51 43 27 42 30 43 41 44 55 25 ...\n",
            " $ Employed      : chr  \"n\" \"y\" \"y\" \"y\" ...\n",
            " $ EDUCATION     : chr  \"Higher education\" \"Secondary / secondary special\" \"Secondary / secondary special\" \"Higher education\" ...\n",
            " $ Marital_status: chr  \"Married\" \"Married\" \"Married\" \"Married\" ...\n",
            " $ Type_Income   : chr  \"Pensioner\" \"Working\" \"Working\" \"State servant\" ...\n",
            " $ Housing_type  : chr  \"House / apartment\" \"House / apartment\" \"House / apartment\" \"House / apartment\" ...\n",
            " $ label         : Factor w/ 2 levels \"0\",\"1\": 2 1 1 1 1 1 1 1 1 1 ...\n"
          ]
        }
      ]
    },
    {
      "cell_type": "markdown",
      "source": [
        "PUNTO 3: Investigar sobre las métricas de Precisión y Sensibilidad.\n",
        "Las métricas de precisión y sensibilidad son indicadores que se utilizan para evaluar el rendimiento de modelos de SVM y Random Forests en problemas de clasificación.\n",
        "->La precisión es una métrica que evalúa la proporción de predicciones correctas realizadas por el modelo entre todas las predicciones hechas para una clase específica.\n",
        "En SVM, la precisión puede ser calculada después de la predicción del conjunto de datos de prueba. Para Random Forests puede calcular después de entrenar el modelo y evaluarlo en el conjunto de datos de prueba.\n",
        "->La sensibilidad mide la proporción de instancias positivas que fueron correctamente identificadas por el modelo entre todas las instancias que son realmente positivas.\n",
        "La sensibilidad en SVM evalúa qué tan bien el modelo identifica correctamente las muestras positivas.\n",
        "En Random Forests se calcula después de la construcción del modelo y su evaluación. Al ser un conjunto de árboles de decisión, la sensibilidad mide la capacidad del modelo para capturar correctamente las instancias positivas."
      ],
      "metadata": {
        "id": "kPnQcCofOabr"
      }
    },
    {
      "cell_type": "markdown",
      "source": [
        "PUNTO 4: Elaborar conclusiones en función de lo observado\n",
        "Efecto del tamaño del conjunto de datos en SVM:\n",
        "Se observa una tendencia en SVM donde un aumento en la cantidad de datos de entrenamiento conduce a un mejor rendimiento. Esto se refleja en una mejora en la precisión de las predicciones y clasificaciones del modelo. Esto sugiere que SVM se beneficia de conjuntos de datos más grandes para un entrenamiento más preciso.\n",
        "Desempeño de SVM con dataset desbalanceado:\n",
        "En los escenarios donde se trabajó con el dataset desbalanceado, se evidencia que SVM no logra una clasificación precisa. Se observa una inclinación hacia la clasificación de una sola clase, lo que indica que SVM puede tener dificultades al tratar con desbalanceo de clases, mostrando un rendimiento deficiente en la clasificación de clases minoritarias.\n",
        "Comportamiento de Random Forest en dataset desbalanceado:\n",
        "Contrario a lo observado en SVM, Random Forest muestra una capacidad superior para manejar datasets desbalanceados. Se destaca su habilidad para realizar predicciones más precisas incluso en escenarios donde las clases están desequilibradas. Esta característica demuestra la robustez de Random Forest ante desbalances de clases, lo que lo convierte en una opción más efectiva en tales situaciones en comparación con SVM.\n"
      ],
      "metadata": {
        "id": "Cs8Nd79QPuXs"
      }
    },
    {
      "cell_type": "markdown",
      "source": [],
      "metadata": {
        "id": "pC9AN8oKTrlR"
      }
    }
  ]
}